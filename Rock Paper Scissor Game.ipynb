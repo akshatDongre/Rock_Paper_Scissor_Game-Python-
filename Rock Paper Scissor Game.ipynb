{
 "cells": [
  {
   "cell_type": "code",
   "execution_count": null,
   "metadata": {},
   "outputs": [
    {
     "name": "stdout",
     "output_type": "stream",
     "text": [
      "Rock Paper scissor Game:\n",
      "Round 1 Start:\n",
      "Please select any one option:\n",
      "1.Rock\n",
      "2.Paper\n",
      "3.Scissor\n",
      "1\n",
      "You select Rock\n",
      "Computer select: Rock\n",
      "This Round is Draw:\n",
      "Round 2 Start:\n",
      "Please select any one option:\n",
      "1.Rock\n",
      "2.Paper\n",
      "3.Scissor\n",
      "1\n",
      "You select Rock\n",
      "Computer select: Rock\n",
      "This Round is Draw:\n",
      "Round 3 Start:\n",
      "Please select any one option:\n",
      "1.Rock\n",
      "2.Paper\n",
      "3.Scissor\n",
      "1\n",
      "You select Rock\n",
      "Computer select: Rock\n",
      "This Round is Draw:\n",
      "Round 4 Start:\n",
      "Please select any one option:\n",
      "1.Rock\n",
      "2.Paper\n",
      "3.Scissor\n",
      "1\n",
      "You select Rock\n",
      "Computer select: Paper\n",
      "Computer win this Round\n",
      "Round 5 Start:\n",
      "Please select any one option:\n",
      "1.Rock\n",
      "2.Paper\n",
      "3.Scissor\n",
      "1\n",
      "You select Rock\n",
      "Computer select: Rock\n",
      "This Round is Draw:\n",
      "You Lose the game. Computer win the game:\n",
      "Score is: Your score: 4 Computer score: 5\n",
      "Want to Play again?(Yes/Exit)yes\n",
      "Rock Paper scissor Game:\n",
      "Round 1 Start:\n",
      "Please select any one option:\n",
      "1.Rock\n",
      "2.Paper\n",
      "3.Scissor\n",
      "1\n",
      "You select Rock\n",
      "Computer select: Paper\n",
      "Computer win this Round\n",
      "Round 2 Start:\n",
      "Please select any one option:\n",
      "1.Rock\n",
      "2.Paper\n",
      "3.Scissor\n",
      "1\n",
      "You select Rock\n",
      "Computer select: Scissor\n",
      "You win this Round\n",
      "Round 3 Start:\n",
      "Please select any one option:\n",
      "1.Rock\n",
      "2.Paper\n",
      "3.Scissor\n"
     ]
    }
   ],
   "source": [
    "import random\n",
    "Cchoice=[\"Rock\",\"Paper\",\"Scissor\"]              # list for computer \n",
    "while True:\n",
    "        print(\"Rock Paper scissor Game:\")\n",
    "        youwin,computerwin=0,0\n",
    "        for i in range(1,6):                    # 5 Round game\n",
    "                print(\"Round\",i,\"Start:\")\n",
    "                print(\"Please select any one option:\")\n",
    "                print(\"1.Rock\",\"2.Paper\",\"3.Scissor\",sep=\"\\n\")  # choice any option but in number 1,2,3\n",
    "                Yourchoice=int(input())\n",
    "                if Yourchoice==1:\n",
    "                        print(\"You select Rock\")\n",
    "                        Yourchoice=\"Rock\"\n",
    "                elif Yourchoice==2:\n",
    "                        print(\"You select paper\")\n",
    "                        Yourchoice=\"Paper\"\n",
    "                elif Yourchoice==3:\n",
    "                        print(\"You select scissor\")\n",
    "                        Yourchoice=\"Scissor\"\n",
    "                else:\n",
    "                        print(\"Invalid Choice\")\n",
    "                        break\n",
    "                Computerchoice=random.choice(Cchoice)  #random select by computer choice\n",
    "                print(\"Computer select:\",Computerchoice)\n",
    "# comparing result and give the point.\n",
    "                if Yourchoice==Computerchoice:    \n",
    "                        youwin+=1\n",
    "                        computerwin+=1\n",
    "                        print(\"This Round is Draw:\")\n",
    "                elif (Yourchoice==\"Paper\" and Computerchoice==\"Rock\") or (Yourchoice==\"Rock\" and Computerchoice==\"Scissor\") or(Yourchoice==\"Scissor\" and Computerchoice==\"Paper\"):\n",
    "                        youwin+=1\n",
    "                        print(\"You win this Round\")\n",
    "                else:\n",
    "                        computerwin+=1\n",
    "                        print(\"Computer win this Round\")\n",
    "                        \n",
    "# if your point more than computer then you win and vice versa\n",
    "        if youwin>computerwin:\n",
    "                print(\"You Win the game:\")\n",
    "                print(\"Score is:\",\"Your score:\",youwin,\"Computer score:\",computerwin,sep=\" \")\n",
    "        elif computerwin>youwin:\n",
    "                print(\"You Lose the game. Computer win the game:\")\n",
    "                print(\"Score is:\",\"Your score:\",youwin,\"Computer score:\",computerwin,sep=\" \")\n",
    "        else:\n",
    "                print(\"Match Draw\")\n",
    "                print(\"Score is:\",\"Your score:\",youwin,\",Computer score:\",computerwin,sep=\" \")\n",
    "        user_choice=input(\"Want to Play again?(Yes/Exit)\")\n",
    "        if user_choice=='yes' or user_choice=='Yes' or user_choice=='YES':\n",
    "                continue             \n",
    "        else:\n",
    "            break"
   ]
  },
  {
   "cell_type": "code",
   "execution_count": null,
   "metadata": {},
   "outputs": [],
   "source": []
  },
  {
   "cell_type": "code",
   "execution_count": null,
   "metadata": {},
   "outputs": [],
   "source": []
  },
  {
   "cell_type": "code",
   "execution_count": null,
   "metadata": {},
   "outputs": [],
   "source": []
  },
  {
   "cell_type": "code",
   "execution_count": null,
   "metadata": {},
   "outputs": [],
   "source": []
  },
  {
   "cell_type": "code",
   "execution_count": null,
   "metadata": {},
   "outputs": [],
   "source": []
  },
  {
   "cell_type": "code",
   "execution_count": null,
   "metadata": {},
   "outputs": [],
   "source": []
  },
  {
   "cell_type": "code",
   "execution_count": null,
   "metadata": {},
   "outputs": [],
   "source": []
  },
  {
   "cell_type": "code",
   "execution_count": null,
   "metadata": {},
   "outputs": [],
   "source": []
  },
  {
   "cell_type": "code",
   "execution_count": null,
   "metadata": {},
   "outputs": [],
   "source": []
  },
  {
   "cell_type": "code",
   "execution_count": null,
   "metadata": {},
   "outputs": [],
   "source": []
  },
  {
   "cell_type": "code",
   "execution_count": null,
   "metadata": {},
   "outputs": [],
   "source": []
  },
  {
   "cell_type": "code",
   "execution_count": null,
   "metadata": {},
   "outputs": [],
   "source": []
  },
  {
   "cell_type": "code",
   "execution_count": null,
   "metadata": {},
   "outputs": [],
   "source": []
  },
  {
   "cell_type": "code",
   "execution_count": null,
   "metadata": {},
   "outputs": [],
   "source": []
  },
  {
   "cell_type": "code",
   "execution_count": null,
   "metadata": {},
   "outputs": [],
   "source": []
  },
  {
   "cell_type": "code",
   "execution_count": null,
   "metadata": {},
   "outputs": [],
   "source": []
  },
  {
   "cell_type": "code",
   "execution_count": null,
   "metadata": {},
   "outputs": [],
   "source": []
  },
  {
   "cell_type": "code",
   "execution_count": null,
   "metadata": {},
   "outputs": [],
   "source": []
  },
  {
   "cell_type": "code",
   "execution_count": null,
   "metadata": {},
   "outputs": [],
   "source": []
  },
  {
   "cell_type": "code",
   "execution_count": null,
   "metadata": {},
   "outputs": [],
   "source": []
  },
  {
   "cell_type": "code",
   "execution_count": null,
   "metadata": {},
   "outputs": [],
   "source": []
  },
  {
   "cell_type": "code",
   "execution_count": null,
   "metadata": {},
   "outputs": [],
   "source": []
  },
  {
   "cell_type": "code",
   "execution_count": null,
   "metadata": {},
   "outputs": [],
   "source": []
  },
  {
   "cell_type": "code",
   "execution_count": null,
   "metadata": {},
   "outputs": [],
   "source": []
  },
  {
   "cell_type": "code",
   "execution_count": null,
   "metadata": {},
   "outputs": [],
   "source": []
  },
  {
   "cell_type": "code",
   "execution_count": null,
   "metadata": {},
   "outputs": [],
   "source": []
  },
  {
   "cell_type": "code",
   "execution_count": null,
   "metadata": {},
   "outputs": [],
   "source": []
  },
  {
   "cell_type": "code",
   "execution_count": null,
   "metadata": {},
   "outputs": [],
   "source": []
  }
 ],
 "metadata": {
  "kernelspec": {
   "display_name": "Python 3",
   "language": "python",
   "name": "python3"
  },
  "language_info": {
   "codemirror_mode": {
    "name": "ipython",
    "version": 3
   },
   "file_extension": ".py",
   "mimetype": "text/x-python",
   "name": "python",
   "nbconvert_exporter": "python",
   "pygments_lexer": "ipython3",
   "version": "3.7.3"
  }
 },
 "nbformat": 4,
 "nbformat_minor": 2
}
