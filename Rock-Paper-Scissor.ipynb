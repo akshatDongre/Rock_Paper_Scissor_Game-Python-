{
 "cells": [
  {
   "cell_type": "code",
   "execution_count": null,
   "metadata": {},
   "outputs": [],
   "source": [
    "import random\n",
    "Cchoice=[\"Rock\",\"Paper\",\"Scissor\"]              # list for computer \n",
    "while True:\n",
    "        print(\"Rock Paper scissor Game:\")\n",
    "        youwin,computerwin=0,0\n",
    "        for i in range(1,6):                    # 5 Round game\n",
    "                print(\"Round\",i,\"Start:\")\n",
    "                print(\"Please select any one option:\")\n",
    "                print(\"1.Rock\",\"2.Paper\",\"3.Scissor\",sep=\"\\n\")  # choice any option but in number 1,2,3\n",
    "                Yourchoice=int(input())\n",
    "                if Yourchoice==1:\n",
    "                        print(\"You select Rock\")\n",
    "                        Yourchoice=\"Rock\"\n",
    "                elif Yourchoice==2:\n",
    "                        print(\"You select paper\")\n",
    "                        Yourchoice=\"Paper\"\n",
    "                elif Yourchoice==3:\n",
    "                        print(\"You select scissor\")\n",
    "                        Yourchoice=\"Scissor\"\n",
    "                else:\n",
    "                        print(\"Invalid Choice\")\n",
    "                        break\n",
    "                Computerchoice=random.choice(Cchoice)  #random select by computer choice\n",
    "                print(\"Computer select:\",Computerchoice)\n",
    "# comparing result and giving point.\n",
    "                if Yourchoice==Computerchoice:    \n",
    "                        youwin+=1\n",
    "                        computerwin+=1\n",
    "                        print(\"This Round is Draw:\")\n",
    "                elif (Yourchoice==\"Paper\" and Computerchoice==\"Rock\") or (Yourchoice==\"Rock\" and Computerchoice==\"Scissor\") or(Yourchoice==\"Scissor\" and Computerchoice==\"Paper\"):\n",
    "                        youwin+=1\n",
    "                        print(\"You win this Round\")\n",
    "                else:\n",
    "                        computerwin+=1\n",
    "                        print(\"Computer win this Round\")\n",
    "                        \n",
    "# deciding the winner, whosoever scores more wins\n",
    "        if youwin>computerwin:\n",
    "                print(\"You Win the game:\")\n",
    "                print(\"Score is:\",\"Your score:\",youwin,\"Computer score:\",computerwin,sep=\" \")\n",
    "        elif computerwin>youwin:\n",
    "                print(\"You Lose the game. Computer win the game:\")\n",
    "                print(\"Score is:\",\"Your score:\",youwin,\"Computer score:\",computerwin,sep=\" \")\n",
    "        else:\n",
    "                print(\"Match Draw\")\n",
    "                print(\"Score is:\",\"Your score:\",youwin,\",Computer score:\",computerwin,sep=\" \")\n",
    "        user_choice=input(\"Want to Play again?(Yes/Exit)\")\n",
    "        if user_choice=='yes' or user_choice=='Yes' or user_choice=='YES':\n",
    "                continue             \n",
    "        else:\n",
    "            break"
   ]
  }
 ],
 "metadata": {
  "kernelspec": {
   "display_name": "Python 3",
   "language": "python",
   "name": "python3"
  },
  "language_info": {
   "codemirror_mode": {
    "name": "ipython",
    "version": 3
   },
   "file_extension": ".py",
   "mimetype": "text/x-python",
   "name": "python",
   "nbconvert_exporter": "python",
   "pygments_lexer": "ipython3",
   "version": "3.7.3"
  }
 },
 "nbformat": 4,
 "nbformat_minor": 2
}
