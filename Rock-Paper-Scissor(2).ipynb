{
 "cells": [
  {
   "cell_type": "code",
   "execution_count": null,
   "metadata": {},
   "outputs": [],
   "source": [
    "# Rock Paper Scissor Game\n",
    "print(\"Rock..\")\n",
    "print(\"Paper..\")\n",
    "print(\"Scissor..\")\n",
    "\n",
    "# Input From two player\n",
    "player1 = input(\"player1,make your move: \")\n",
    "print(\"**No Cheating!!\\n\\n\" * 20)\n",
    "player2 = input(\"player2,make your move: \")\n",
    "\n",
    "# Nested Conditions to win\n",
    "if player1 == player2:\n",
    "    print(\"Game Tie!\")\n",
    "elif player1 == \"Rock\":\n",
    "    if player2 == \"Paper\":\n",
    "        print(\"player2 wins\")\n",
    "    elif player2 == \"Scissor\":\n",
    "        print(\"player1 wins!\")\n",
    "elif player1 == \"Paper\":\n",
    "    if player2 == \"Rock\":\n",
    "        print(\"player1 wins!\")\n",
    "    elif player2 == \"Scissor\":\n",
    "        print(\"player2 wins!\")\n",
    "elif player1 == \"Scissor\":\n",
    "    if player2 == \"Paper\":\n",
    "        print(\"player1 wins!\")\n",
    "    elif player2 == \"Rock\":\n",
    "        print(\"player2 wins!\")\n",
    "# If Wrong Input is given\n",
    "else:\n",
    "    print(\"Something Wrong!\")"
   ]
  },
  {
   "cell_type": "code",
   "execution_count": null,
   "metadata": {},
   "outputs": [],
   "source": []
  },
  {
   "cell_type": "code",
   "execution_count": null,
   "metadata": {},
   "outputs": [],
   "source": []
  },
  {
   "cell_type": "code",
   "execution_count": null,
   "metadata": {},
   "outputs": [],
   "source": []
  },
  {
   "cell_type": "code",
   "execution_count": null,
   "metadata": {},
   "outputs": [],
   "source": []
  },
  {
   "cell_type": "code",
   "execution_count": null,
   "metadata": {},
   "outputs": [],
   "source": []
  },
  {
   "cell_type": "code",
   "execution_count": null,
   "metadata": {},
   "outputs": [],
   "source": []
  },
  {
   "cell_type": "code",
   "execution_count": null,
   "metadata": {},
   "outputs": [],
   "source": []
  },
  {
   "cell_type": "code",
   "execution_count": null,
   "metadata": {},
   "outputs": [],
   "source": []
  }
 ],
 "metadata": {
  "kernelspec": {
   "display_name": "Python 3",
   "language": "python",
   "name": "python3"
  },
  "language_info": {
   "codemirror_mode": {
    "name": "ipython",
    "version": 3
   },
   "file_extension": ".py",
   "mimetype": "text/x-python",
   "name": "python",
   "nbconvert_exporter": "python",
   "pygments_lexer": "ipython3",
   "version": "3.7.3"
  }
 },
 "nbformat": 4,
 "nbformat_minor": 2
}
